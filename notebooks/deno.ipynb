{
 "cells": [
  {
   "cell_type": "code",
   "execution_count": 1,
   "id": "0cc74faa-bedc-4364-9b4c-706a70d6e8a9",
   "metadata": {},
   "outputs": [
    {
     "name": "stdout",
     "output_type": "stream",
     "text": [
      "Hi\n"
     ]
    }
   ],
   "source": [
    "console.log(\"Hi\")"
   ]
  },
  {
   "cell_type": "code",
   "execution_count": 7,
   "id": "17b4aa09-f012-43ac-94f8-a85ca759193b",
   "metadata": {},
   "outputs": [
    {
     "data": {
      "text/plain": [
       "\u001b[32m\"hi\"\u001b[39m"
      ]
     },
     "execution_count": 7,
     "metadata": {},
     "output_type": "execute_result"
    }
   ],
   "source": [
    "\"hi\""
   ]
  },
  {
   "cell_type": "code",
   "execution_count": 2,
   "id": "0d5fe1e8-f075-45c3-8095-666b7c481fe1",
   "metadata": {},
   "outputs": [
    {
     "data": {
      "text/plain": [
       "\u001b[32m\"v20.11.1\"\u001b[39m"
      ]
     },
     "execution_count": 2,
     "metadata": {},
     "output_type": "execute_result"
    }
   ],
   "source": [
    "process.version"
   ]
  },
  {
   "cell_type": "code",
   "execution_count": 6,
   "id": "857d3e04-a3f8-481e-acef-e58afc62dc93",
   "metadata": {},
   "outputs": [
    {
     "ename": "SyntaxError",
     "evalue": "Cannot use 'import.meta' outside a module",
     "output_type": "error",
     "traceback": [
      "Stack trace:",
      "SyntaxError: Cannot use 'import.meta' outside a module"
     ]
    }
   ],
   "source": [
    "/* Will fail with a SyntaxError */\n",
    "import.meta.url"
   ]
  },
  {
   "cell_type": "code",
   "execution_count": 5,
   "id": "3d9b2c95-a704-41ac-8bf8-bb82a8a3457c",
   "metadata": {},
   "outputs": [
    {
     "data": {
      "text/plain": [
       "\u001b[32m\"/home/nodex/Documents/workspaces/programming_scripts/external_repositories/aa_learnings-experiments/experiments--python-deno--code-exporer--jupyter-notebooks/notebooks\"\u001b[39m"
      ]
     },
     "execution_count": 5,
     "metadata": {},
     "output_type": "execute_result"
    }
   ],
   "source": [
    "async function getCwd() {\n",
    "    const command = new Deno.Command(\"pwd\");\n",
    "    const output = await command.output();\n",
    "\n",
    "    // Decode the output\n",
    "    const currentDirectory = new TextDecoder().decode(output.stdout).trim();\n",
    "    \n",
    "    return currentDirectory;\n",
    "}\n",
    "\n",
    "await getCwd()"
   ]
  }
 ],
 "metadata": {
  "kernelspec": {
   "display_name": "Deno",
   "language": "typescript",
   "name": "deno"
  },
  "language_info": {
   "codemirror_mode": "typescript",
   "file_extension": ".ts",
   "mimetype": "text/x.typescript",
   "name": "typescript",
   "nbconvert_exporter": "script",
   "pygments_lexer": "typescript",
   "version": "5.6.2"
  }
 },
 "nbformat": 4,
 "nbformat_minor": 5
}
