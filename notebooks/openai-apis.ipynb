{
 "cells": [
  {
   "cell_type": "code",
   "execution_count": 1,
   "id": "cc23bea7",
   "metadata": {},
   "outputs": [],
   "source": [
    "const OPENAI_API_KEY = '';"
   ]
  },
  {
   "cell_type": "code",
   "execution_count": 15,
   "id": "e19b07d5",
   "metadata": {},
   "outputs": [
    {
     "name": "stdout",
     "output_type": "stream",
     "text": [
      "{\n",
      "  joke: \"Why did the scarecrow win an award?\\n\" +\n",
      "    \"\\n\" +\n",
      "    \"Because he was outstanding in his field!\"\n",
      "}\n"
     ]
    }
   ],
   "source": [
    "import OpenAI from \"npm:openai\";\n",
    "import { zodResponseFormat } from \"npm:openai/helpers/zod\";\n",
    "import { z } from \"npm:zod\";\n",
    "\n",
    "const openai = new OpenAI({ apiKey: OPENAI_API_KEY });\n",
    "\n",
    "const responseSchema = z.object({\n",
    "  joke: z.string(),\n",
    "});\n",
    "\n",
    "// Structured outputs\n",
    "const completion = await openai.beta.chat.completions.parse({\n",
    "  model: \"gpt-4o-2024-08-06\",\n",
    "  messages: [\n",
    "    {\n",
    "      role: \"user\",\n",
    "      content: \"Tell me a joke\"\n",
    "    }\n",
    "  ],\n",
    "  response_format: zodResponseFormat(responseSchema, 'jokeAnswer')\n",
    "});\n",
    "\n",
    "console.log(completion.choices[0].message.parsed);\n"
   ]
  }
 ],
 "metadata": {
  "kernelspec": {
   "display_name": "Deno",
   "language": "typescript",
   "name": "deno"
  },
  "language_info": {
   "codemirror_mode": "typescript",
   "file_extension": ".ts",
   "mimetype": "text/x.typescript",
   "name": "typescript",
   "nbconvert_exporter": "script",
   "pygments_lexer": "typescript",
   "version": "5.6.2"
  }
 },
 "nbformat": 4,
 "nbformat_minor": 5
}
