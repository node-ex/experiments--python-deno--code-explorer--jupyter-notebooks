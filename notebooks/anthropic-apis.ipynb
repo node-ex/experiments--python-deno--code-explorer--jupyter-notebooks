{
 "cells": [
  {
   "cell_type": "code",
   "execution_count": 1,
   "id": "cc23bea7",
   "metadata": {},
   "outputs": [],
   "source": [
    "const ANTHROPIC_API_KEY = '';"
   ]
  },
  {
   "cell_type": "code",
   "execution_count": 5,
   "id": "e19b07d5",
   "metadata": {},
   "outputs": [
    {
     "name": "stdout",
     "output_type": "stream",
     "text": [
      "Here's a classic:\n",
      "\n",
      "Why don't scientists trust atoms?\n",
      "Because they make up everything! 😄\n"
     ]
    }
   ],
   "source": [
    "import Anthropic from \"npm:@anthropic-ai/sdk\";\n",
    "\n",
    "const anthropic = new Anthropic({ apiKey: ANTHROPIC_API_KEY });\n",
    "\n",
    "const result = await anthropic.messages.create({\n",
    "  model: \"claude-3-5-sonnet-20241022\",\n",
    "  max_tokens: 8192,\n",
    "  messages: [\n",
    "    {\n",
    "      role: \"user\",\n",
    "      content: 'Tell me a joke'\n",
    "    }\n",
    "  ],\n",
    "});\n",
    "\n",
    "console.log((result.content[0] as any).text);\n"
   ]
  }
 ],
 "metadata": {
  "kernelspec": {
   "display_name": "Deno",
   "language": "typescript",
   "name": "deno"
  },
  "language_info": {
   "codemirror_mode": "typescript",
   "file_extension": ".ts",
   "mimetype": "text/x.typescript",
   "name": "typescript",
   "nbconvert_exporter": "script",
   "pygments_lexer": "typescript",
   "version": "5.6.2"
  }
 },
 "nbformat": 4,
 "nbformat_minor": 5
}
